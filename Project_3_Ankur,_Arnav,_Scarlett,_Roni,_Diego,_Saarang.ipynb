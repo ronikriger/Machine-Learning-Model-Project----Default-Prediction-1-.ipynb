{
  "nbformat": 4,
  "nbformat_minor": 0,
  "metadata": {
    "colab": {
      "name": "Project 3 - Ankur, Arnav, Scarlett, Roni, Diego, Saarang",
      "provenance": [],
      "collapsed_sections": []
    },
    "kernelspec": {
      "name": "python3",
      "display_name": "Python 3"
    },
    "language_info": {
      "name": "python"
    }
  },
  "cells": [
    {
      "cell_type": "code",
      "metadata": {
        "id": "vmhWJRuR2ff9"
      },
      "source": [
        "import numpy as np\n",
        "import pandas as pd\n",
        "import matplotlib.pyplot as plt\n",
        "import seaborn as sns\n",
        "import warnings\n",
        "import pandas_profiling\n",
        "#!pip\n",
        "warnings.filterwarnings('ignore')\n",
        "%matplotlib inline"
      ],
      "execution_count": null,
      "outputs": []
    },
    {
      "cell_type": "code",
      "metadata": {
        "id": "OD1qlhXp56sQ"
      },
      "source": [
        "DF=pd.read_csv('Columbia_CLI.csv',index_col=0)\n",
        "#Drop other columns that we don't need or that have too many null values\n",
        "DF.drop(['member_id','CLI','sub_grade','emp_length','emp_title','pymnt_plan','desc','title','zip_code','addr_state','earliest_cr_line','mths_since_last_delinq','mths_since_last_record','initial_list_status','out_prncp','out_prncp_inv','total_pymnt','total_rec_late_fee','recoveries','collection_recovery_fee','last_pymnt_d','last_pymnt_amnt','next_pymnt_d','application_type','policy_code','collections_12_mths_ex_med','last_credit_pull_d','acc_now_delinq'], axis=1, inplace=True)\n",
        "half_count = len(DF) / 2\n",
        "DF.dropna(thresh=half_count, axis=1, inplace=True)"
      ],
      "execution_count": null,
      "outputs": []
    },
    {
      "cell_type": "code",
      "metadata": {
        "colab": {
          "base_uri": "https://localhost:8080/"
        },
        "id": "AuViAQcjYEr0",
        "outputId": "73a0a51b-3681-4292-8297-934dd436081e"
      },
      "source": [
        "DF.shape"
      ],
      "execution_count": null,
      "outputs": [
        {
          "output_type": "execute_result",
          "data": {
            "text/plain": [
              "(999, 20)"
            ]
          },
          "metadata": {
            "tags": []
          },
          "execution_count": 177
        }
      ]
    },
    {
      "cell_type": "code",
      "metadata": {
        "colab": {
          "base_uri": "https://localhost:8080/",
          "height": 244
        },
        "id": "evl0l6Kg6Xjd",
        "outputId": "4154a737-bb94-4cb5-8196-19c4ba8b1cbb"
      },
      "source": [
        "#DF.shape\n",
        "#DF.columns\n",
        "#DF.info()\n",
        "#DF.describe()\n",
        "DF.head(3)"
      ],
      "execution_count": null,
      "outputs": [
        {
          "output_type": "execute_result",
          "data": {
            "text/html": [
              "<div>\n",
              "<style scoped>\n",
              "    .dataframe tbody tr th:only-of-type {\n",
              "        vertical-align: middle;\n",
              "    }\n",
              "\n",
              "    .dataframe tbody tr th {\n",
              "        vertical-align: top;\n",
              "    }\n",
              "\n",
              "    .dataframe thead th {\n",
              "        text-align: right;\n",
              "    }\n",
              "</style>\n",
              "<table border=\"1\" class=\"dataframe\">\n",
              "  <thead>\n",
              "    <tr style=\"text-align: right;\">\n",
              "      <th></th>\n",
              "      <th>term</th>\n",
              "      <th>int_rate</th>\n",
              "      <th>installment</th>\n",
              "      <th>grade</th>\n",
              "      <th>home_ownership</th>\n",
              "      <th>annual_inc</th>\n",
              "      <th>verification_status</th>\n",
              "      <th>loan_status</th>\n",
              "      <th>purpose</th>\n",
              "      <th>dti</th>\n",
              "      <th>delinq_2yrs</th>\n",
              "      <th>inq_last_6mths</th>\n",
              "      <th>open_acc</th>\n",
              "      <th>pub_rec</th>\n",
              "      <th>revol_bal</th>\n",
              "      <th>revol_util</th>\n",
              "      <th>total_acc</th>\n",
              "      <th>total_pymnt_inv</th>\n",
              "      <th>total_rec_prncp</th>\n",
              "      <th>total_rec_int</th>\n",
              "    </tr>\n",
              "    <tr>\n",
              "      <th>id</th>\n",
              "      <th></th>\n",
              "      <th></th>\n",
              "      <th></th>\n",
              "      <th></th>\n",
              "      <th></th>\n",
              "      <th></th>\n",
              "      <th></th>\n",
              "      <th></th>\n",
              "      <th></th>\n",
              "      <th></th>\n",
              "      <th></th>\n",
              "      <th></th>\n",
              "      <th></th>\n",
              "      <th></th>\n",
              "      <th></th>\n",
              "      <th></th>\n",
              "      <th></th>\n",
              "      <th></th>\n",
              "      <th></th>\n",
              "      <th></th>\n",
              "    </tr>\n",
              "  </thead>\n",
              "  <tbody>\n",
              "    <tr>\n",
              "      <th>1077501</th>\n",
              "      <td>36 months</td>\n",
              "      <td>10.65</td>\n",
              "      <td>162.87</td>\n",
              "      <td>B</td>\n",
              "      <td>RENT</td>\n",
              "      <td>24000.0</td>\n",
              "      <td>Verified</td>\n",
              "      <td>Fully Paid</td>\n",
              "      <td>credit_card</td>\n",
              "      <td>27.65</td>\n",
              "      <td>0</td>\n",
              "      <td>1</td>\n",
              "      <td>3</td>\n",
              "      <td>0</td>\n",
              "      <td>13648</td>\n",
              "      <td>83.7</td>\n",
              "      <td>9</td>\n",
              "      <td>5831.78</td>\n",
              "      <td>5000.00</td>\n",
              "      <td>861.07</td>\n",
              "    </tr>\n",
              "    <tr>\n",
              "      <th>1077430</th>\n",
              "      <td>60 months</td>\n",
              "      <td>15.27</td>\n",
              "      <td>59.83</td>\n",
              "      <td>C</td>\n",
              "      <td>RENT</td>\n",
              "      <td>30000.0</td>\n",
              "      <td>Source Verified</td>\n",
              "      <td>Charged Off</td>\n",
              "      <td>car</td>\n",
              "      <td>1.00</td>\n",
              "      <td>0</td>\n",
              "      <td>5</td>\n",
              "      <td>3</td>\n",
              "      <td>0</td>\n",
              "      <td>1687</td>\n",
              "      <td>9.4</td>\n",
              "      <td>4</td>\n",
              "      <td>1008.71</td>\n",
              "      <td>456.46</td>\n",
              "      <td>435.17</td>\n",
              "    </tr>\n",
              "    <tr>\n",
              "      <th>1077175</th>\n",
              "      <td>36 months</td>\n",
              "      <td>15.96</td>\n",
              "      <td>84.33</td>\n",
              "      <td>C</td>\n",
              "      <td>RENT</td>\n",
              "      <td>12252.0</td>\n",
              "      <td>Not Verified</td>\n",
              "      <td>Fully Paid</td>\n",
              "      <td>small_business</td>\n",
              "      <td>8.72</td>\n",
              "      <td>0</td>\n",
              "      <td>2</td>\n",
              "      <td>2</td>\n",
              "      <td>0</td>\n",
              "      <td>2956</td>\n",
              "      <td>98.5</td>\n",
              "      <td>10</td>\n",
              "      <td>3003.65</td>\n",
              "      <td>2400.00</td>\n",
              "      <td>603.65</td>\n",
              "    </tr>\n",
              "  </tbody>\n",
              "</table>\n",
              "</div>"
            ],
            "text/plain": [
              "               term  int_rate  ...  total_rec_prncp total_rec_int\n",
              "id                             ...                               \n",
              "1077501   36 months     10.65  ...          5000.00        861.07\n",
              "1077430   60 months     15.27  ...           456.46        435.17\n",
              "1077175   36 months     15.96  ...          2400.00        603.65\n",
              "\n",
              "[3 rows x 20 columns]"
            ]
          },
          "metadata": {
            "tags": []
          },
          "execution_count": 178
        }
      ]
    },
    {
      "cell_type": "code",
      "metadata": {
        "id": "W5I2G24zrGDG",
        "colab": {
          "base_uri": "https://localhost:8080/"
        },
        "outputId": "519dd111-6b74-41bd-f8ed-82dde30cdd58"
      },
      "source": [
        "#We must drop the columns that have null values \n",
        "print(DF.isnull().max())"
      ],
      "execution_count": null,
      "outputs": [
        {
          "output_type": "stream",
          "text": [
            "term                   False\n",
            "int_rate               False\n",
            "installment            False\n",
            "grade                  False\n",
            "home_ownership         False\n",
            "annual_inc             False\n",
            "verification_status    False\n",
            "loan_status            False\n",
            "purpose                False\n",
            "dti                    False\n",
            "delinq_2yrs            False\n",
            "inq_last_6mths         False\n",
            "open_acc               False\n",
            "pub_rec                False\n",
            "revol_bal              False\n",
            "revol_util             False\n",
            "total_acc              False\n",
            "total_pymnt_inv        False\n",
            "total_rec_prncp        False\n",
            "total_rec_int          False\n",
            "dtype: bool\n"
          ],
          "name": "stdout"
        }
      ]
    },
    {
      "cell_type": "code",
      "metadata": {
        "id": "zgDozldo3d_l",
        "colab": {
          "base_uri": "https://localhost:8080/",
          "height": 562
        },
        "outputId": "3dd4ab3f-b097-4d8e-c937-55a5435de3ac"
      },
      "source": [
        "#Checking for outliers that could decrease the accuracy of our prediction model\n",
        "#Aligning the grades in order\n",
        "order = ['G', 'F', 'E', 'D', 'C', 'B', 'A']\n",
        "DF['grade'] = pd.Categorical(DF['grade'], order)\n",
        "DF.sort_values(by=['grade'], inplace = True)\n",
        "\n",
        "x=DF['grade']\n",
        "y=DF['CLI']\n",
        "plt.scatter(x,y)"
      ],
      "execution_count": null,
      "outputs": [
        {
          "output_type": "error",
          "ename": "KeyError",
          "evalue": "ignored",
          "traceback": [
            "\u001b[0;31m---------------------------------------------------------------------------\u001b[0m",
            "\u001b[0;31mKeyError\u001b[0m                                  Traceback (most recent call last)",
            "\u001b[0;32m/usr/local/lib/python3.7/dist-packages/pandas/core/indexes/base.py\u001b[0m in \u001b[0;36mget_loc\u001b[0;34m(self, key, method, tolerance)\u001b[0m\n\u001b[1;32m   2897\u001b[0m             \u001b[0;32mtry\u001b[0m\u001b[0;34m:\u001b[0m\u001b[0;34m\u001b[0m\u001b[0;34m\u001b[0m\u001b[0m\n\u001b[0;32m-> 2898\u001b[0;31m                 \u001b[0;32mreturn\u001b[0m \u001b[0mself\u001b[0m\u001b[0;34m.\u001b[0m\u001b[0m_engine\u001b[0m\u001b[0;34m.\u001b[0m\u001b[0mget_loc\u001b[0m\u001b[0;34m(\u001b[0m\u001b[0mcasted_key\u001b[0m\u001b[0;34m)\u001b[0m\u001b[0;34m\u001b[0m\u001b[0;34m\u001b[0m\u001b[0m\n\u001b[0m\u001b[1;32m   2899\u001b[0m             \u001b[0;32mexcept\u001b[0m \u001b[0mKeyError\u001b[0m \u001b[0;32mas\u001b[0m \u001b[0merr\u001b[0m\u001b[0;34m:\u001b[0m\u001b[0;34m\u001b[0m\u001b[0;34m\u001b[0m\u001b[0m\n",
            "\u001b[0;32mpandas/_libs/index.pyx\u001b[0m in \u001b[0;36mpandas._libs.index.IndexEngine.get_loc\u001b[0;34m()\u001b[0m\n",
            "\u001b[0;32mpandas/_libs/index.pyx\u001b[0m in \u001b[0;36mpandas._libs.index.IndexEngine.get_loc\u001b[0;34m()\u001b[0m\n",
            "\u001b[0;32mpandas/_libs/hashtable_class_helper.pxi\u001b[0m in \u001b[0;36mpandas._libs.hashtable.PyObjectHashTable.get_item\u001b[0;34m()\u001b[0m\n",
            "\u001b[0;32mpandas/_libs/hashtable_class_helper.pxi\u001b[0m in \u001b[0;36mpandas._libs.hashtable.PyObjectHashTable.get_item\u001b[0;34m()\u001b[0m\n",
            "\u001b[0;31mKeyError\u001b[0m: 'CLI'",
            "\nThe above exception was the direct cause of the following exception:\n",
            "\u001b[0;31mKeyError\u001b[0m                                  Traceback (most recent call last)",
            "\u001b[0;32m<ipython-input-235-3fa4b6ce8f06>\u001b[0m in \u001b[0;36m<module>\u001b[0;34m()\u001b[0m\n\u001b[1;32m      6\u001b[0m \u001b[0;34m\u001b[0m\u001b[0m\n\u001b[1;32m      7\u001b[0m \u001b[0mx\u001b[0m\u001b[0;34m=\u001b[0m\u001b[0mDF\u001b[0m\u001b[0;34m[\u001b[0m\u001b[0;34m'grade'\u001b[0m\u001b[0;34m]\u001b[0m\u001b[0;34m\u001b[0m\u001b[0;34m\u001b[0m\u001b[0m\n\u001b[0;32m----> 8\u001b[0;31m \u001b[0my\u001b[0m\u001b[0;34m=\u001b[0m\u001b[0mDF\u001b[0m\u001b[0;34m[\u001b[0m\u001b[0;34m'CLI'\u001b[0m\u001b[0;34m]\u001b[0m\u001b[0;34m\u001b[0m\u001b[0;34m\u001b[0m\u001b[0m\n\u001b[0m\u001b[1;32m      9\u001b[0m \u001b[0mplt\u001b[0m\u001b[0;34m.\u001b[0m\u001b[0mscatter\u001b[0m\u001b[0;34m(\u001b[0m\u001b[0mx\u001b[0m\u001b[0;34m,\u001b[0m\u001b[0my\u001b[0m\u001b[0;34m)\u001b[0m\u001b[0;34m\u001b[0m\u001b[0;34m\u001b[0m\u001b[0m\n",
            "\u001b[0;32m/usr/local/lib/python3.7/dist-packages/pandas/core/frame.py\u001b[0m in \u001b[0;36m__getitem__\u001b[0;34m(self, key)\u001b[0m\n\u001b[1;32m   2904\u001b[0m             \u001b[0;32mif\u001b[0m \u001b[0mself\u001b[0m\u001b[0;34m.\u001b[0m\u001b[0mcolumns\u001b[0m\u001b[0;34m.\u001b[0m\u001b[0mnlevels\u001b[0m \u001b[0;34m>\u001b[0m \u001b[0;36m1\u001b[0m\u001b[0;34m:\u001b[0m\u001b[0;34m\u001b[0m\u001b[0;34m\u001b[0m\u001b[0m\n\u001b[1;32m   2905\u001b[0m                 \u001b[0;32mreturn\u001b[0m \u001b[0mself\u001b[0m\u001b[0;34m.\u001b[0m\u001b[0m_getitem_multilevel\u001b[0m\u001b[0;34m(\u001b[0m\u001b[0mkey\u001b[0m\u001b[0;34m)\u001b[0m\u001b[0;34m\u001b[0m\u001b[0;34m\u001b[0m\u001b[0m\n\u001b[0;32m-> 2906\u001b[0;31m             \u001b[0mindexer\u001b[0m \u001b[0;34m=\u001b[0m \u001b[0mself\u001b[0m\u001b[0;34m.\u001b[0m\u001b[0mcolumns\u001b[0m\u001b[0;34m.\u001b[0m\u001b[0mget_loc\u001b[0m\u001b[0;34m(\u001b[0m\u001b[0mkey\u001b[0m\u001b[0;34m)\u001b[0m\u001b[0;34m\u001b[0m\u001b[0;34m\u001b[0m\u001b[0m\n\u001b[0m\u001b[1;32m   2907\u001b[0m             \u001b[0;32mif\u001b[0m \u001b[0mis_integer\u001b[0m\u001b[0;34m(\u001b[0m\u001b[0mindexer\u001b[0m\u001b[0;34m)\u001b[0m\u001b[0;34m:\u001b[0m\u001b[0;34m\u001b[0m\u001b[0;34m\u001b[0m\u001b[0m\n\u001b[1;32m   2908\u001b[0m                 \u001b[0mindexer\u001b[0m \u001b[0;34m=\u001b[0m \u001b[0;34m[\u001b[0m\u001b[0mindexer\u001b[0m\u001b[0;34m]\u001b[0m\u001b[0;34m\u001b[0m\u001b[0;34m\u001b[0m\u001b[0m\n",
            "\u001b[0;32m/usr/local/lib/python3.7/dist-packages/pandas/core/indexes/base.py\u001b[0m in \u001b[0;36mget_loc\u001b[0;34m(self, key, method, tolerance)\u001b[0m\n\u001b[1;32m   2898\u001b[0m                 \u001b[0;32mreturn\u001b[0m \u001b[0mself\u001b[0m\u001b[0;34m.\u001b[0m\u001b[0m_engine\u001b[0m\u001b[0;34m.\u001b[0m\u001b[0mget_loc\u001b[0m\u001b[0;34m(\u001b[0m\u001b[0mcasted_key\u001b[0m\u001b[0;34m)\u001b[0m\u001b[0;34m\u001b[0m\u001b[0;34m\u001b[0m\u001b[0m\n\u001b[1;32m   2899\u001b[0m             \u001b[0;32mexcept\u001b[0m \u001b[0mKeyError\u001b[0m \u001b[0;32mas\u001b[0m \u001b[0merr\u001b[0m\u001b[0;34m:\u001b[0m\u001b[0;34m\u001b[0m\u001b[0;34m\u001b[0m\u001b[0m\n\u001b[0;32m-> 2900\u001b[0;31m                 \u001b[0;32mraise\u001b[0m \u001b[0mKeyError\u001b[0m\u001b[0;34m(\u001b[0m\u001b[0mkey\u001b[0m\u001b[0;34m)\u001b[0m \u001b[0;32mfrom\u001b[0m \u001b[0merr\u001b[0m\u001b[0;34m\u001b[0m\u001b[0;34m\u001b[0m\u001b[0m\n\u001b[0m\u001b[1;32m   2901\u001b[0m \u001b[0;34m\u001b[0m\u001b[0m\n\u001b[1;32m   2902\u001b[0m         \u001b[0;32mif\u001b[0m \u001b[0mtolerance\u001b[0m \u001b[0;32mis\u001b[0m \u001b[0;32mnot\u001b[0m \u001b[0;32mNone\u001b[0m\u001b[0;34m:\u001b[0m\u001b[0;34m\u001b[0m\u001b[0;34m\u001b[0m\u001b[0m\n",
            "\u001b[0;31mKeyError\u001b[0m: 'CLI'"
          ]
        }
      ]
    },
    {
      "cell_type": "code",
      "metadata": {
        "id": "kizRbRcqqTe3",
        "colab": {
          "base_uri": "https://localhost:8080/"
        },
        "outputId": "c40e63ca-724e-4248-dec9-b151aa7d0ae2"
      },
      "source": [
        "#Checking that our data is cleaned and ready to train\n",
        "print('check the nan value in the DF data')\n",
        "print(DF.isnull().sum())"
      ],
      "execution_count": null,
      "outputs": [
        {
          "output_type": "stream",
          "text": [
            "check the nan value in the DF data\n",
            "term                   0\n",
            "int_rate               0\n",
            "installment            0\n",
            "grade                  0\n",
            "home_ownership         0\n",
            "annual_inc             0\n",
            "verification_status    0\n",
            "loan_status            0\n",
            "purpose                0\n",
            "dti                    0\n",
            "delinq_2yrs            0\n",
            "inq_last_6mths         0\n",
            "open_acc               0\n",
            "pub_rec                0\n",
            "revol_bal              0\n",
            "revol_util             0\n",
            "total_acc              0\n",
            "total_pymnt_inv        0\n",
            "total_rec_prncp        0\n",
            "total_rec_int          0\n",
            "dtype: int64\n"
          ],
          "name": "stdout"
        }
      ]
    },
    {
      "cell_type": "code",
      "metadata": {
        "id": "5vmmxW7S7B_2"
      },
      "source": [
        "# Finding all the correlations and sorting them\n",
        "correlation = DF.corr()['loan_status'].sort_values()\n",
        "\n",
        "# Printing the correlations\n",
        "print(correlation.head(15), '\\n')\n",
        "\n",
        "#I get a Key ERROR on loan_status, I think it's because the results are in str format"
      ],
      "execution_count": null,
      "outputs": []
    },
    {
      "cell_type": "code",
      "metadata": {
        "id": "PRUPJi11hQzD"
      },
      "source": [
        "DF = DF[DF['loan_status']!='Current']\n",
        "DF = DF[DF['loan_status']!='Late (31-120 days)']\n",
        "DF = DF[DF['loan_status']!='Default']"
      ],
      "execution_count": null,
      "outputs": []
    },
    {
      "cell_type": "code",
      "metadata": {
        "id": "6QRbg1n-Ru0z"
      },
      "source": [
        "#Turns loan_status column into 0's and 1's\n",
        "# 1 = Fully Paid or Current, 0 = Charged Off/Defaulted\n",
        "DF['loan_status'] = DF['loan_status'].replace('Charged Off', 0)\n",
        "DF['loan_status'] = DF['loan_status'].replace('Fully Paid', 1)"
      ],
      "execution_count": null,
      "outputs": []
    },
    {
      "cell_type": "code",
      "metadata": {
        "colab": {
          "base_uri": "https://localhost:8080/"
        },
        "id": "urS5apn_FSSa",
        "outputId": "48a22a3f-7a23-4925-fa9e-6c2ddb29bcc1"
      },
      "source": [
        "DF['loan_status'].unique()"
      ],
      "execution_count": null,
      "outputs": [
        {
          "output_type": "execute_result",
          "data": {
            "text/plain": [
              "array([1, 0])"
            ]
          },
          "metadata": {
            "tags": []
          },
          "execution_count": 204
        }
      ]
    },
    {
      "cell_type": "code",
      "metadata": {
        "colab": {
          "base_uri": "https://localhost:8080/"
        },
        "id": "CkbGus7LERjj",
        "outputId": "972e337b-00e8-4515-c915-a94cf228b9f8"
      },
      "source": [
        "DF['loan_status']"
      ],
      "execution_count": null,
      "outputs": [
        {
          "output_type": "execute_result",
          "data": {
            "text/plain": [
              "id\n",
              "1077501     Fully Paid\n",
              "1077430    Charged Off\n",
              "1077175     Fully Paid\n",
              "1076863     Fully Paid\n",
              "1075269     Fully Paid\n",
              "              ...     \n",
              "1057615     Fully Paid\n",
              "1057818     Fully Paid\n",
              "1057629     Fully Paid\n",
              "1057621     Fully Paid\n",
              "1057787     Fully Paid\n",
              "Name: loan_status, Length: 905, dtype: object"
            ]
          },
          "metadata": {
            "tags": []
          },
          "execution_count": 197
        }
      ]
    },
    {
      "cell_type": "code",
      "metadata": {
        "id": "dD3qCsOrgPNo",
        "colab": {
          "base_uri": "https://localhost:8080/",
          "height": 640
        },
        "outputId": "46c285a7-6705-49dc-8f31-b8402bc03f1d"
      },
      "source": [
        "DF"
      ],
      "execution_count": null,
      "outputs": [
        {
          "output_type": "execute_result",
          "data": {
            "text/html": [
              "<div>\n",
              "<style scoped>\n",
              "    .dataframe tbody tr th:only-of-type {\n",
              "        vertical-align: middle;\n",
              "    }\n",
              "\n",
              "    .dataframe tbody tr th {\n",
              "        vertical-align: top;\n",
              "    }\n",
              "\n",
              "    .dataframe thead th {\n",
              "        text-align: right;\n",
              "    }\n",
              "</style>\n",
              "<table border=\"1\" class=\"dataframe\">\n",
              "  <thead>\n",
              "    <tr style=\"text-align: right;\">\n",
              "      <th></th>\n",
              "      <th>term</th>\n",
              "      <th>int_rate</th>\n",
              "      <th>installment</th>\n",
              "      <th>grade</th>\n",
              "      <th>home_ownership</th>\n",
              "      <th>annual_inc</th>\n",
              "      <th>verification_status</th>\n",
              "      <th>loan_status</th>\n",
              "      <th>purpose</th>\n",
              "      <th>dti</th>\n",
              "      <th>delinq_2yrs</th>\n",
              "      <th>inq_last_6mths</th>\n",
              "      <th>open_acc</th>\n",
              "      <th>pub_rec</th>\n",
              "      <th>revol_bal</th>\n",
              "      <th>revol_util</th>\n",
              "      <th>total_acc</th>\n",
              "      <th>total_pymnt_inv</th>\n",
              "      <th>total_rec_prncp</th>\n",
              "      <th>total_rec_int</th>\n",
              "    </tr>\n",
              "    <tr>\n",
              "      <th>id</th>\n",
              "      <th></th>\n",
              "      <th></th>\n",
              "      <th></th>\n",
              "      <th></th>\n",
              "      <th></th>\n",
              "      <th></th>\n",
              "      <th></th>\n",
              "      <th></th>\n",
              "      <th></th>\n",
              "      <th></th>\n",
              "      <th></th>\n",
              "      <th></th>\n",
              "      <th></th>\n",
              "      <th></th>\n",
              "      <th></th>\n",
              "      <th></th>\n",
              "      <th></th>\n",
              "      <th></th>\n",
              "      <th></th>\n",
              "      <th></th>\n",
              "    </tr>\n",
              "  </thead>\n",
              "  <tbody>\n",
              "    <tr>\n",
              "      <th>1060753</th>\n",
              "      <td>60 months</td>\n",
              "      <td>23.91</td>\n",
              "      <td>715.75</td>\n",
              "      <td>G</td>\n",
              "      <td>RENT</td>\n",
              "      <td>60000.0</td>\n",
              "      <td>Verified</td>\n",
              "      <td>Fully Paid</td>\n",
              "      <td>credit_card</td>\n",
              "      <td>17.74</td>\n",
              "      <td>0</td>\n",
              "      <td>2</td>\n",
              "      <td>19</td>\n",
              "      <td>0</td>\n",
              "      <td>14265</td>\n",
              "      <td>98.9</td>\n",
              "      <td>26</td>\n",
              "      <td>37747.49</td>\n",
              "      <td>24925.00</td>\n",
              "      <td>12860.28</td>\n",
              "    </tr>\n",
              "    <tr>\n",
              "      <th>1061914</th>\n",
              "      <td>60 months</td>\n",
              "      <td>22.74</td>\n",
              "      <td>628.13</td>\n",
              "      <td>G</td>\n",
              "      <td>RENT</td>\n",
              "      <td>85000.0</td>\n",
              "      <td>Not Verified</td>\n",
              "      <td>Charged Off</td>\n",
              "      <td>credit_card</td>\n",
              "      <td>7.02</td>\n",
              "      <td>2</td>\n",
              "      <td>1</td>\n",
              "      <td>14</td>\n",
              "      <td>0</td>\n",
              "      <td>13773</td>\n",
              "      <td>58.7</td>\n",
              "      <td>16</td>\n",
              "      <td>26376.52</td>\n",
              "      <td>12893.89</td>\n",
              "      <td>13482.63</td>\n",
              "    </tr>\n",
              "    <tr>\n",
              "      <th>1060644</th>\n",
              "      <td>60 months</td>\n",
              "      <td>23.91</td>\n",
              "      <td>519.76</td>\n",
              "      <td>G</td>\n",
              "      <td>MORTGAGE</td>\n",
              "      <td>120000.0</td>\n",
              "      <td>Verified</td>\n",
              "      <td>Fully Paid</td>\n",
              "      <td>debt_consolidation</td>\n",
              "      <td>12.96</td>\n",
              "      <td>0</td>\n",
              "      <td>3</td>\n",
              "      <td>7</td>\n",
              "      <td>0</td>\n",
              "      <td>31992</td>\n",
              "      <td>99.0</td>\n",
              "      <td>20</td>\n",
              "      <td>22157.63</td>\n",
              "      <td>18100.00</td>\n",
              "      <td>4088.25</td>\n",
              "    </tr>\n",
              "    <tr>\n",
              "      <th>1058624</th>\n",
              "      <td>60 months</td>\n",
              "      <td>23.13</td>\n",
              "      <td>349.79</td>\n",
              "      <td>G</td>\n",
              "      <td>RENT</td>\n",
              "      <td>40000.0</td>\n",
              "      <td>Not Verified</td>\n",
              "      <td>Charged Off</td>\n",
              "      <td>other</td>\n",
              "      <td>20.88</td>\n",
              "      <td>0</td>\n",
              "      <td>0</td>\n",
              "      <td>27</td>\n",
              "      <td>0</td>\n",
              "      <td>13768</td>\n",
              "      <td>22.5</td>\n",
              "      <td>31</td>\n",
              "      <td>8530.26</td>\n",
              "      <td>2444.99</td>\n",
              "      <td>4602.60</td>\n",
              "    </tr>\n",
              "    <tr>\n",
              "      <th>1058484</th>\n",
              "      <td>36 months</td>\n",
              "      <td>20.89</td>\n",
              "      <td>270.86</td>\n",
              "      <td>F</td>\n",
              "      <td>MORTGAGE</td>\n",
              "      <td>88800.0</td>\n",
              "      <td>Verified</td>\n",
              "      <td>Charged Off</td>\n",
              "      <td>debt_consolidation</td>\n",
              "      <td>20.46</td>\n",
              "      <td>0</td>\n",
              "      <td>3</td>\n",
              "      <td>34</td>\n",
              "      <td>0</td>\n",
              "      <td>17998</td>\n",
              "      <td>57.5</td>\n",
              "      <td>61</td>\n",
              "      <td>6676.85</td>\n",
              "      <td>4068.87</td>\n",
              "      <td>2159.78</td>\n",
              "    </tr>\n",
              "    <tr>\n",
              "      <th>...</th>\n",
              "      <td>...</td>\n",
              "      <td>...</td>\n",
              "      <td>...</td>\n",
              "      <td>...</td>\n",
              "      <td>...</td>\n",
              "      <td>...</td>\n",
              "      <td>...</td>\n",
              "      <td>...</td>\n",
              "      <td>...</td>\n",
              "      <td>...</td>\n",
              "      <td>...</td>\n",
              "      <td>...</td>\n",
              "      <td>...</td>\n",
              "      <td>...</td>\n",
              "      <td>...</td>\n",
              "      <td>...</td>\n",
              "      <td>...</td>\n",
              "      <td>...</td>\n",
              "      <td>...</td>\n",
              "      <td>...</td>\n",
              "    </tr>\n",
              "    <tr>\n",
              "      <th>1058552</th>\n",
              "      <td>36 months</td>\n",
              "      <td>7.90</td>\n",
              "      <td>469.36</td>\n",
              "      <td>A</td>\n",
              "      <td>RENT</td>\n",
              "      <td>43000.0</td>\n",
              "      <td>Source Verified</td>\n",
              "      <td>Fully Paid</td>\n",
              "      <td>debt_consolidation</td>\n",
              "      <td>19.40</td>\n",
              "      <td>0</td>\n",
              "      <td>0</td>\n",
              "      <td>9</td>\n",
              "      <td>0</td>\n",
              "      <td>12835</td>\n",
              "      <td>60.3</td>\n",
              "      <td>16</td>\n",
              "      <td>16891.50</td>\n",
              "      <td>15000.00</td>\n",
              "      <td>1896.24</td>\n",
              "    </tr>\n",
              "    <tr>\n",
              "      <th>1063892</th>\n",
              "      <td>36 months</td>\n",
              "      <td>6.62</td>\n",
              "      <td>552.67</td>\n",
              "      <td>A</td>\n",
              "      <td>MORTGAGE</td>\n",
              "      <td>78000.0</td>\n",
              "      <td>Not Verified</td>\n",
              "      <td>Fully Paid</td>\n",
              "      <td>debt_consolidation</td>\n",
              "      <td>6.35</td>\n",
              "      <td>0</td>\n",
              "      <td>0</td>\n",
              "      <td>8</td>\n",
              "      <td>0</td>\n",
              "      <td>16136</td>\n",
              "      <td>25.0</td>\n",
              "      <td>13</td>\n",
              "      <td>19892.95</td>\n",
              "      <td>18000.00</td>\n",
              "      <td>1892.95</td>\n",
              "    </tr>\n",
              "    <tr>\n",
              "      <th>1064061</th>\n",
              "      <td>36 months</td>\n",
              "      <td>6.03</td>\n",
              "      <td>219.14</td>\n",
              "      <td>A</td>\n",
              "      <td>MORTGAGE</td>\n",
              "      <td>60000.0</td>\n",
              "      <td>Not Verified</td>\n",
              "      <td>Fully Paid</td>\n",
              "      <td>other</td>\n",
              "      <td>2.54</td>\n",
              "      <td>0</td>\n",
              "      <td>0</td>\n",
              "      <td>6</td>\n",
              "      <td>0</td>\n",
              "      <td>3859</td>\n",
              "      <td>6.0</td>\n",
              "      <td>20</td>\n",
              "      <td>7854.56</td>\n",
              "      <td>7200.00</td>\n",
              "      <td>681.92</td>\n",
              "    </tr>\n",
              "    <tr>\n",
              "      <th>1063505</th>\n",
              "      <td>36 months</td>\n",
              "      <td>8.90</td>\n",
              "      <td>222.28</td>\n",
              "      <td>A</td>\n",
              "      <td>RENT</td>\n",
              "      <td>46000.0</td>\n",
              "      <td>Verified</td>\n",
              "      <td>Fully Paid</td>\n",
              "      <td>credit_card</td>\n",
              "      <td>7.90</td>\n",
              "      <td>0</td>\n",
              "      <td>1</td>\n",
              "      <td>7</td>\n",
              "      <td>0</td>\n",
              "      <td>8717</td>\n",
              "      <td>76.5</td>\n",
              "      <td>18</td>\n",
              "      <td>7999.85</td>\n",
              "      <td>7000.00</td>\n",
              "      <td>999.85</td>\n",
              "    </tr>\n",
              "    <tr>\n",
              "      <th>1066065</th>\n",
              "      <td>36 months</td>\n",
              "      <td>8.90</td>\n",
              "      <td>571.56</td>\n",
              "      <td>A</td>\n",
              "      <td>RENT</td>\n",
              "      <td>78000.0</td>\n",
              "      <td>Verified</td>\n",
              "      <td>Fully Paid</td>\n",
              "      <td>credit_card</td>\n",
              "      <td>7.00</td>\n",
              "      <td>0</td>\n",
              "      <td>1</td>\n",
              "      <td>6</td>\n",
              "      <td>0</td>\n",
              "      <td>17769</td>\n",
              "      <td>66.3</td>\n",
              "      <td>10</td>\n",
              "      <td>19827.94</td>\n",
              "      <td>18000.00</td>\n",
              "      <td>1883.16</td>\n",
              "    </tr>\n",
              "  </tbody>\n",
              "</table>\n",
              "<p>908 rows × 20 columns</p>\n",
              "</div>"
            ],
            "text/plain": [
              "               term  int_rate  ...  total_rec_prncp total_rec_int\n",
              "id                             ...                               \n",
              "1060753   60 months     23.91  ...         24925.00      12860.28\n",
              "1061914   60 months     22.74  ...         12893.89      13482.63\n",
              "1060644   60 months     23.91  ...         18100.00       4088.25\n",
              "1058624   60 months     23.13  ...          2444.99       4602.60\n",
              "1058484   36 months     20.89  ...          4068.87       2159.78\n",
              "...             ...       ...  ...              ...           ...\n",
              "1058552   36 months      7.90  ...         15000.00       1896.24\n",
              "1063892   36 months      6.62  ...         18000.00       1892.95\n",
              "1064061   36 months      6.03  ...          7200.00        681.92\n",
              "1063505   36 months      8.90  ...          7000.00        999.85\n",
              "1066065   36 months      8.90  ...         18000.00       1883.16\n",
              "\n",
              "[908 rows x 20 columns]"
            ]
          },
          "metadata": {
            "tags": []
          },
          "execution_count": 93
        }
      ]
    },
    {
      "cell_type": "code",
      "metadata": {
        "id": "LZHTvUFEa1vf"
      },
      "source": [
        "def dummy_variables(DF, columns, prefixes):\n",
        "    DF = DF.copy()\n",
        "    for column, prefix in zip(columns, prefixes):\n",
        "        dummies = pd.get_dummies(DF[column], prefix=prefix)\n",
        "        DF = pd.concat([DF, dummies], axis=1)\n",
        "        DF = DF.drop(column, axis=1) \n",
        "    return DF"
      ],
      "execution_count": null,
      "outputs": []
    },
    {
      "cell_type": "code",
      "metadata": {
        "id": "UGOunRZcbBt3"
      },
      "source": [
        "DF = dummy_variables(DF['term','grade','home_ownership','verification_status','purpose'],['tm','gr','ho','vs','ps'])"
      ],
      "execution_count": null,
      "outputs": []
    },
    {
      "cell_type": "code",
      "metadata": {
        "id": "0TvMr9zDd7GK"
      },
      "source": [
        "from sklearn.model_selection import train_test_split\n",
        "model_data = DF\n",
        "all_features = model_data.drop(\"loan_status\",axis=1)\n",
        "Targeted_feature = model_data[\"loan_status\"]\n",
        "\n",
        "# total of 6891 records in dataset\n",
        "# Divide the data set into two- 70% for train and 30% for test\n",
        "\n",
        "#X_train,X_test,y_train,y_test = train_test_split(all_features,Targeted_feature,test_size=0.3)  \n",
        "X_train,X_test,y_train,y_test = train_test_split(all_features,Targeted_feature,test_size=0.3,random_state=42)\n"
      ],
      "execution_count": null,
      "outputs": []
    },
    {
      "cell_type": "code",
      "metadata": {
        "colab": {
          "base_uri": "https://localhost:8080/"
        },
        "id": "q_PhVIaCfJ1X",
        "outputId": "b5765d39-5460-4933-ff4d-993066582ac3"
      },
      "source": [
        "# Train the logistic regression model with training data\n",
        "\n",
        "from sklearn.linear_model import LogisticRegression\n",
        "\n",
        "logreg = LogisticRegression()\n",
        "logreg.fit(X_train, y_train)\n"
      ],
      "execution_count": null,
      "outputs": [
        {
          "output_type": "execute_result",
          "data": {
            "text/plain": [
              "LogisticRegression(C=1.0, class_weight=None, dual=False, fit_intercept=True,\n",
              "                   intercept_scaling=1, l1_ratio=None, max_iter=100,\n",
              "                   multi_class='auto', n_jobs=None, penalty='l2',\n",
              "                   random_state=None, solver='lbfgs', tol=0.0001, verbose=0,\n",
              "                   warm_start=False)"
            ]
          },
          "metadata": {
            "tags": []
          },
          "execution_count": 223
        }
      ]
    },
    {
      "cell_type": "code",
      "metadata": {
        "id": "ildcXzc1fTGW"
      },
      "source": [
        "y_pred = logreg.predict(X_test)"
      ],
      "execution_count": null,
      "outputs": []
    },
    {
      "cell_type": "code",
      "metadata": {
        "colab": {
          "base_uri": "https://localhost:8080/",
          "height": 334
        },
        "id": "LaWD879JfVLO",
        "outputId": "e2fc7661-ac0e-41e9-8044-069167b16260"
      },
      "source": [
        "from sklearn.metrics import confusion_matrix\n",
        "print('--------------The Accuracy of the model----------------------------')\n",
        "print('Accuracy of logistic regression classifier on test set: {:.2f}'.format(logreg.score(X_test, y_test)))\n",
        "\n",
        "sns.heatmap(confusion_matrix(y_test,y_pred),annot=True,fmt='3.0f',cmap=\"summer\")\n",
        "plt.title('Confusion_matrix', y=1.05, size=15)\n"
      ],
      "execution_count": null,
      "outputs": [
        {
          "output_type": "stream",
          "text": [
            "--------------The Accuracy of the model----------------------------\n",
            "Accuracy of logistic regression classifier on test set: 0.99\n"
          ],
          "name": "stdout"
        },
        {
          "output_type": "execute_result",
          "data": {
            "text/plain": [
              "Text(0.5, 1.05, 'Confusion_matrix')"
            ]
          },
          "metadata": {
            "tags": []
          },
          "execution_count": 224
        },
        {
          "output_type": "display_data",
          "data": {
            "image/png": "[encoded data removed]",
            "text/plain": [
              "<Figure size 432x288 with 2 Axes>"
            ]
          },
          "metadata": {
            "tags": [],
            "needs_background": "light"
          }
        }
      ]
    },
    {
      "cell_type": "code",
      "metadata": {
        "id": "f1dP-U43gDOt",
        "colab": {
          "base_uri": "https://localhost:8080/",
          "height": 334
        },
        "outputId": "2b023ee0-80dc-4d0a-e53e-0ebaae6242e7"
      },
      "source": [
        "X_train,X_test,y_train,y_test = train_test_split(all_features,Targeted_feature,test_size=0.3,random_state=67)\n",
        "# Train the logistic regression model with training data\n",
        "\n",
        "from sklearn.linear_model import LogisticRegression\n",
        "\n",
        "logreg = LogisticRegression()\n",
        "logreg.fit(X_train, y_train)\n",
        "#Predict what it is going to be\n",
        "y_pred = logreg.predict(X_test)\n",
        "\n",
        "#Get the accuracy of the model\n",
        "from sklearn.metrics import confusion_matrix\n",
        "print('--------------The Accuracy of the model----------------------------')\n",
        "print('Accuracy of logistic regression classifier on test set: {:.2f}'.format(logreg.score(X_test, y_test)))\n",
        "\n",
        "sns.heatmap(confusion_matrix(y_test,y_pred),annot=True,fmt='3.0f',cmap=\"summer\")\n",
        "plt.title('Confusion_matrix', y=1.05, size=15)\n"
      ],
      "execution_count": null,
      "outputs": [
        {
          "output_type": "stream",
          "text": [
            "--------------The Accuracy of the model----------------------------\n",
            "Accuracy of logistic regression classifier on test set: 0.99\n"
          ],
          "name": "stdout"
        },
        {
          "output_type": "execute_result",
          "data": {
            "text/plain": [
              "Text(0.5, 1.05, 'Confusion_matrix')"
            ]
          },
          "metadata": {
            "tags": []
          },
          "execution_count": 225
        },
        {
          "output_type": "display_data",
          "data": {
            "image/png": "[encoded data removed]",
            "text/plain": [
              "<Figure size 432x288 with 2 Axes>"
            ]
          },
          "metadata": {
            "tags": [],
            "needs_background": "light"
          }
        }
      ]
    },
    {
      "cell_type": "code",
      "metadata": {
        "id": "ScAuoMgwkN2b",
        "colab": {
          "base_uri": "https://localhost:8080/"
        },
        "outputId": "75bc54d7-2732-4c6f-f096-28811d55e6ea"
      },
      "source": [
        "accuracy_sum = 0\n",
        "for i in range(0, 1000):\n",
        "  X_train,X_test,y_train,y_test = train_test_split(all_features,Targeted_feature,test_size=0.3)\n",
        "  # Train the logistic regression model with training data\n",
        "\n",
        "  from sklearn.linear_model import LogisticRegression\n",
        "\n",
        "  logreg = LogisticRegression()\n",
        "  logreg.fit(X_train, y_train)\n",
        "  #Predict what it is going to be\n",
        "  y_pred = logreg.predict(X_test)\n",
        "\n",
        "  #Get the accuracy of the model\n",
        "  from sklearn.metrics import confusion_matrix\n",
        "  #print('--------------The Accuracy of the model----------------------------')\n",
        "  #print('Accuracy of logistic regression classifier on test set: {:.2f}'.format(logreg.score(X_test, y_test)))\n",
        "  accuracy_sum += logreg.score(X_test, y_test)\n",
        "  #sns.heatmap(confusion_matrix(y_test,y_pred),annot=True,fmt='3.0f',cmap=\"summer\")\n",
        "  #plt.title('Confusion_matrix', y=1.05, size=15)\n",
        "print(accuracy_sum/1000)"
      ],
      "execution_count": null,
      "outputs": [
        {
          "output_type": "stream",
          "text": [
            "0.9850477941176449\n"
          ],
          "name": "stdout"
        }
      ]
    },
    {
      "cell_type": "code",
      "metadata": {
        "id": "CEWRz0galyzF",
        "colab": {
          "base_uri": "https://localhost:8080/",
          "height": 582
        },
        "outputId": "981b9358-7e4f-4304-9e8a-e3ed4d11c77f"
      },
      "source": [
        "from sklearn.ensemble import RandomForestClassifier\n",
        "rf_model = RandomForestClassifier(criterion='gini', n_estimators=700,\n",
        "                             min_samples_split=2,min_samples_leaf=1,\n",
        "                             max_features='auto',oob_score=True,\n",
        "                             random_state=1,n_jobs=-1)\n",
        "rf_model.fit(X_train,y_train)\n",
        "y_pred_rm=rf_model.predict(X_test)\n",
        "print('--------------The Accuracy of the model----------------------------')\n",
        "print('Accuracy of logistic regression classifier on test set: {:.2f}'.format(rf_model.score(X_test, y_test)))\n",
        "\n",
        "mat=confusion_matrix(y_test,y_pred_rm)\n",
        "sns.heatmap(mat.T,square=True,annot=True,fmt='d',cbar=False)\n",
        "plt.xlabel('true label')\n",
        "plt.ylabel('predicted label')\n",
        "plt.title('Confusion_matrix', y=1.05, size=15)"
      ],
      "execution_count": null,
      "outputs": [
        {
          "output_type": "stream",
          "text": [
            "--------------The Accuracy of the model----------------------------\n",
            "Accuracy of logistic regression classifier on test set: 0.89\n"
          ],
          "name": "stdout"
        },
        {
          "output_type": "execute_result",
          "data": {
            "text/plain": [
              "Text(0.5, 1.05, 'Confusion_matrix')"
            ]
          },
          "metadata": {
            "tags": []
          },
          "execution_count": 278
        },
        {
          "output_type": "display_data",
          "data": {
            "image/png": "[encoded data removed]",
            "text/plain": [
              "<Figure size 800x550 with 1 Axes>"
            ]
          },
          "metadata": {
            "tags": []
          }
        }
      ]
    },
    {
      "cell_type": "code",
      "metadata": {
        "id": "LTE1o5eZJqOu"
      },
      "source": [
        ""
      ],
      "execution_count": null,
      "outputs": []
    }
  ]
}